{
 "cells": [
  {
   "cell_type": "code",
   "execution_count": 2,
   "metadata": {},
   "outputs": [],
   "source": [
    "import numpy as np\n",
    "import matplotlib.pyplot as plt"
   ]
  },
  {
   "cell_type": "code",
   "execution_count": 177,
   "metadata": {},
   "outputs": [
    {
     "data": {
      "text/plain": [
       "(5, 2)"
      ]
     },
     "execution_count": 177,
     "metadata": {},
     "output_type": "execute_result"
    }
   ],
   "source": [
    "points = np.array([ np.random.rand(2) for i in range(5) ]) * 5\n",
    "points.shape"
   ]
  },
  {
   "cell_type": "code",
   "execution_count": 178,
   "metadata": {},
   "outputs": [
    {
     "data": {
      "image/png": "[encoded data removed]",
      "text/plain": [
       "<Figure size 432x288 with 1 Axes>"
      ]
     },
     "metadata": {
      "needs_background": "light"
     },
     "output_type": "display_data"
    }
   ],
   "source": [
    "plt.scatter(points[:,0], points[:,1])\n",
    "plt.show()"
   ]
  },
  {
   "cell_type": "code",
   "execution_count": 41,
   "metadata": {},
   "outputs": [],
   "source": [
    "def computeValueAtPoint ( model, x) :\n",
    "    value = 0\n",
    "    for i, e in enumerate(model):\n",
    "        value += e * (x ** i)\n",
    "    return value"
   ]
  },
  {
   "cell_type": "code",
   "execution_count": 42,
   "metadata": {},
   "outputs": [
    {
     "name": "stdout",
     "output_type": "stream",
     "text": [
      "57\n",
      "[ 6 57]\n"
     ]
    }
   ],
   "source": [
    "# Test computations\n",
    "print( computeValueAtPoint( np.array([1,2,3]), 4 ) ) # Should be 57\n",
    "print( computeValueAtPoint( np.array([1,2,3]), np.array([1,4]) ) ) # Should be 57"
   ]
  },
  {
   "cell_type": "code",
   "execution_count": 43,
   "metadata": {},
   "outputs": [],
   "source": [
    "def computeErrorAtPoint ( size, e, x) :\n",
    "    return [ e * (x ** i) for i in range(size) ]"
   ]
  },
  {
   "cell_type": "code",
   "execution_count": 44,
   "metadata": {},
   "outputs": [
    {
     "data": {
      "text/plain": [
       "[1.0, 0.5, 0.25, 0.125, 0.0625]"
      ]
     },
     "execution_count": 44,
     "metadata": {},
     "output_type": "execute_result"
    }
   ],
   "source": [
    "# Test errors\n",
    "computeErrorAtPoint( 5, 1, 0.5)"
   ]
  },
  {
   "cell_type": "code",
   "execution_count": 45,
   "metadata": {},
   "outputs": [],
   "source": [
    "def computDeltas ( model, point ):\n",
    "    (x,y) = point\n",
    "    value = computeValueAtPoint( model, x )\n",
    "    error = value - y\n",
    "    errors = computeErrorAtPoint( len(model), error, x )\n",
    "    norm = np.array(errors)/ np.linalg.norm(errors)\n",
    "    return ( error, norm )"
   ]
  },
  {
   "cell_type": "code",
   "execution_count": 160,
   "metadata": {},
   "outputs": [],
   "source": [
    "def doStep ( model, points, stepSize = 0.01 ):\n",
    "    e = 0\n",
    "    for p in points:\n",
    "        (_e,delta) = computDeltas(model, p)\n",
    "        model -= delta * stepSize * abs(_e)\n",
    "        e += _e**2\n",
    "    return (e/len(points), model)"
   ]
  },
  {
   "cell_type": "code",
   "execution_count": 161,
   "metadata": {},
   "outputs": [],
   "source": [
    "def render (errors,models) :\n",
    "    plt.scatter(points[:,0], points[:,1])\n",
    "    x = np.linspace(0, 5, 200)\n",
    "    for model in models:\n",
    "        y = computeValueAtPoint(model, x )\n",
    "        plt.plot(x,y, color='red')\n",
    "    plt.ylim(-5,10)\n",
    "    plt.xlim(-5,10)\n",
    "    plt.show()\n",
    "    \n",
    "    if len(errors) is not 0:\n",
    "        fig = plt.figure()\n",
    "        ax = fig.add_subplot(1, 1, 1)\n",
    "        plt.plot(range(len(errors)), errors, color='red')\n",
    "        ax.set_yscale('log')\n",
    "        plt.show()"
   ]
  },
  {
   "cell_type": "code",
   "execution_count": 194,
   "metadata": {},
   "outputs": [],
   "source": [
    "def runRandomModel ( degree ):\n",
    "    models = [(np.random.rand(degree) - 0.5) * 5 for i in range(5)]\n",
    "    render([], models )\n",
    "    \n",
    "    for i in range(4000):\n",
    "        for j in range(5):\n",
    "            (e,x) = doStep(models[j],points)\n",
    "            models[j] = x\n",
    "            \n",
    "    render([], models )"
   ]
  },
  {
   "cell_type": "code",
   "execution_count": 195,
   "metadata": {},
   "outputs": [
    {
     "data": {
      "image/png": "[encoded data removed]",
      "text/plain": [
       "<Figure size 432x288 with 1 Axes>"
      ]
     },
     "metadata": {
      "needs_background": "light"
     },
     "output_type": "display_data"
    },
    {
     "data": {
      "image/png": "[encoded data removed]",
      "text/plain": [
       "<Figure size 432x288 with 1 Axes>"
      ]
     },
     "metadata": {
      "needs_background": "light"
     },
     "output_type": "display_data"
    }
   ],
   "source": [
    "runRandomModel( 4 )"
   ]
  }
 ],
 "metadata": {
  "kernelspec": {
   "display_name": "Python 3",
   "language": "python",
   "name": "python3"
  },
  "language_info": {
   "codemirror_mode": {
    "name": "ipython",
    "version": 3
   },
   "file_extension": ".py",
   "mimetype": "text/x-python",
   "name": "python",
   "nbconvert_exporter": "python",
   "pygments_lexer": "ipython3",
   "version": "3.7.3"
  }
 },
 "nbformat": 4,
 "nbformat_minor": 4
}
